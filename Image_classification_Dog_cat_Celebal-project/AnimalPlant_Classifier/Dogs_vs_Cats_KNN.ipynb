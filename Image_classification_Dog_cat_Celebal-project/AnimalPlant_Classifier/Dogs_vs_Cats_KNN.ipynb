{
  "nbformat": 4,
  "nbformat_minor": 0,
  "metadata": {
    "colab": {
      "private_outputs": true,
      "provenance": [],
      "cell_execution_strategy": "setup"
    },
    "kernelspec": {
      "name": "python3",
      "display_name": "Python 3"
    },
    "language_info": {
      "name": "python"
    }
  },
  "cells": [
    {
      "cell_type": "code",
      "execution_count": null,
      "metadata": {
        "id": "rUGiKePka7g_"
      },
      "outputs": [],
      "source": []
    },
    {
      "cell_type": "code",
      "source": [
        "import kagglehub\n",
        "\n",
        "# Download latest version\n",
        "path = kagglehub.dataset_download(\"salader/dogs-vs-cats\")\n",
        "\n",
        "print(\"Path to dataset files:\", path)"
      ],
      "metadata": {
        "id": "pxkyviIfbOy5"
      },
      "execution_count": null,
      "outputs": []
    },
    {
      "cell_type": "code",
      "source": [
        "import os\n",
        "\n",
        "base_path = path\n",
        "for root, dirs, files in os.walk(base_path):\n",
        "    print(\"Current directory:\", root)\n",
        "    print(\"Sub-directories:\", dirs)\n",
        "    print(\"Files:\", files[:5])  # show only first 5 files for brevity\n",
        "    print(\"=\" * 40)"
      ],
      "metadata": {
        "id": "YVNYyjJVbTJa"
      },
      "execution_count": null,
      "outputs": []
    },
    {
      "cell_type": "code",
      "source": [
        "from PIL import Image\n",
        "import matplotlib.pyplot as plt\n",
        "\n",
        "# Define the full path to the first cat image\n",
        "cat_image_path =path+\"/train/cats/cat.891.jpg\"\n",
        "\n",
        "# Load and display the image\n",
        "img = Image.open(cat_image_path)\n",
        "plt.imshow(img)\n",
        "plt.axis('off')\n",
        "plt.title(\"First Cat Image\")\n",
        "plt.show()\n"
      ],
      "metadata": {
        "id": "Xz3ZMaMibTeJ"
      },
      "execution_count": null,
      "outputs": []
    },
    {
      "cell_type": "code",
      "source": [
        "\n",
        "import os\n",
        "\n",
        "cat_image_path = path+\"/train/cats\"\n",
        "print(\"Exists:\", os.path.exists(cat_image_path))\n"
      ],
      "metadata": {
        "id": "FQ8LRbQ3beXY"
      },
      "execution_count": null,
      "outputs": []
    },
    {
      "cell_type": "code",
      "source": [
        "import os\n",
        "\n",
        "cat_dir = path+\"/train/cats\"\n",
        "\n",
        "# Check if directory exists\n",
        "print(\"Exists:\", os.path.exists(cat_dir))\n",
        "\n",
        "# Get list of all image filenames\n",
        "cat_filenames = sorted([f for f in os.listdir(cat_dir) if f.endswith(\".jpg\")])\n",
        "print(f\"Total cat test images: {len(cat_filenames)}\")\n",
        "print(\"First 5 files:\", cat_filenames[:5])\n"
      ],
      "metadata": {
        "id": "4NLoR114blCd"
      },
      "execution_count": null,
      "outputs": []
    },
    {
      "cell_type": "code",
      "source": [
        "\n",
        "cat_image_path = path+\"/test/cats/cat.10.jpg\"\n",
        "\n",
        "# Load and display the image\n",
        "img = Image.open(cat_image_path)\n",
        "plt.imshow(img)"
      ],
      "metadata": {
        "id": "_QzVjyeBej94"
      },
      "execution_count": null,
      "outputs": []
    },
    {
      "cell_type": "code",
      "source": [
        "import os\n",
        "\n",
        "dog_dir =path+\"/test/dogs\"\n",
        "\n",
        "# Check if directory exists\n",
        "print(\"Exists:\", os.path.exists(dog_dir))\n",
        "\n",
        "# Get list of all image filenames\n",
        "cat_filenames = sorted([f for f in os.listdir(dog_dir) if f.endswith(\".jpg\")])\n",
        "print(f\"Total cat test images: {len(cat_filenames)}\")\n",
        "print(\"First 5 files:\", cat_filenames[:5])\n"
      ],
      "metadata": {
        "id": "g6D6iw7tetMN"
      },
      "execution_count": null,
      "outputs": []
    },
    {
      "cell_type": "code",
      "source": [
        "import os\n",
        "import cv2\n",
        "\n",
        "Images = []\n",
        "Labels = []\n",
        "\n",
        "# Paths to cat and dog image directories\n",
        "cat_dir =path+\"/test/cats\"\n",
        "dog_dir = path+\"/test/dogs\"\n",
        "\n",
        "# Load cat images (label 0)\n",
        "for file in os.listdir(cat_dir):\n",
        "    img_path = os.path.join(cat_dir, file)\n",
        "    img = cv2.imread(img_path)\n",
        "    if img is not None:\n",
        "        img = cv2.resize(img, (255, 255))\n",
        "        Images.append(img)\n",
        "        Labels.append(0)\n",
        "\n",
        "# Load dog images (label 1)\n",
        "for file in os.listdir(dog_dir):\n",
        "    img_path = os.path.join(dog_dir, file)\n",
        "    img = cv2.imread(img_path)\n",
        "    if img is not None:\n",
        "        img = cv2.resize(img, (255, 255))\n",
        "        Images.append(img)\n",
        "        Labels.append(1)\n",
        "\n",
        "print(f\"Total Images Loaded: {len(Images)}\")\n",
        "print(f\"Total Labels: {len(Labels)}\")\n",
        "print(f\"Example label values: {Labels[:10]}\")\n"
      ],
      "metadata": {
        "id": "G9oqBQnie5GK"
      },
      "execution_count": null,
      "outputs": []
    },
    {
      "cell_type": "code",
      "source": [
        "sample = Images[0]\n",
        "\n",
        "plt.imshow(sample)\n",
        "plt.title(\"Postive\")"
      ],
      "metadata": {
        "id": "dpm0O4NefeZg"
      },
      "execution_count": null,
      "outputs": []
    },
    {
      "cell_type": "code",
      "source": [
        "len(Images)"
      ],
      "metadata": {
        "id": "gS4ds3FMfpQ6"
      },
      "execution_count": null,
      "outputs": []
    },
    {
      "cell_type": "code",
      "source": [
        "Images[2600]"
      ],
      "metadata": {
        "id": "2iosygcxf3g-"
      },
      "execution_count": null,
      "outputs": []
    },
    {
      "cell_type": "code",
      "source": [
        "Labels[2600]"
      ],
      "metadata": {
        "id": "Z6oIvkptf-cb"
      },
      "execution_count": null,
      "outputs": []
    },
    {
      "cell_type": "code",
      "source": [
        "import numpy as np\n",
        "\n",
        "# Convert lists to NumPy arrays\n",
        "X = np.array(Images, dtype=np.float32)\n",
        "y = np.array(Labels)\n",
        "\n",
        "# Now safely scale\n",
        "X = X / 255.0\n"
      ],
      "metadata": {
        "id": "I57CwlzRgGj8"
      },
      "execution_count": null,
      "outputs": []
    },
    {
      "cell_type": "code",
      "source": [
        "from sklearn.preprocessing import label_binarize\n",
        "from sklearn.tree import DecisionTreeClassifier\n",
        "from sklearn.linear_model import LogisticRegression\n",
        "from sklearn.svm  import SVC\n",
        "from sklearn.metrics import accuracy_score,classification_report\n",
        "from sklearn.model_selection import train_test_split\n",
        "train_X, test_X, train_y, test_y = train_test_split(X, np.array(y), stratify = np.array(y),\n",
        "                                                    random_state = 42,\n",
        "                                                    shuffle = True, test_size = 0.2)\n",
        "\n",
        "train_X.shape, test_X.shape, train_y.shape, test_y.shape"
      ],
      "metadata": {
        "id": "l17ASS12iSAK"
      },
      "execution_count": null,
      "outputs": []
    },
    {
      "cell_type": "code",
      "source": [
        "from sklearn.linear_model import LogisticRegression\n",
        "\n",
        "train_X_flattened = train_X.reshape(len(train_X), -1)\n",
        "test_X_flattened = test_X.reshape(len(test_X), -1)"
      ],
      "metadata": {
        "id": "7Iv0yho-hNqq"
      },
      "execution_count": null,
      "outputs": []
    },
    {
      "cell_type": "code",
      "source": [],
      "metadata": {
        "id": "sEjHgHRuil0g"
      },
      "execution_count": null,
      "outputs": []
    },
    {
      "cell_type": "code",
      "source": [
        "from sklearn.metrics import accuracy_score, precision_score, recall_score, f1_score, confusion_matrix, classification_report\n",
        "import seaborn as sns\n",
        "def get_score(y_pred, y_true):\n",
        "    print(\"Accuracy score - \", accuracy_score(y_pred, y_true))\n",
        "    print(\"Precision score - \", precision_score(y_pred, y_true))\n",
        "    print(\"Recall score - \", recall_score(y_pred, y_true))\n",
        "    print(\"f1 score - \", f1_score(y_pred, y_true))\n",
        "    print(\"----------  Classification Report   -------\")\n",
        "    print(classification_report(y_pred, y_true))\n",
        "\n",
        "    matrix = confusion_matrix(y_pred, y_true)\n",
        "    sns.heatmap(matrix, cmap='Blues', annot=True, fmt='d')"
      ],
      "metadata": {
        "id": "ZNvliucgkNHu"
      },
      "execution_count": null,
      "outputs": []
    },
    {
      "cell_type": "code",
      "source": [
        "from sklearn.neighbors import KNeighborsClassifier\n",
        "from sklearn.metrics import accuracy_score, classification_report"
      ],
      "metadata": {
        "id": "vd3QjeXIkOU5"
      },
      "execution_count": null,
      "outputs": []
    },
    {
      "cell_type": "code",
      "source": [
        "knn = KNeighborsClassifier(n_neighbors=5)\n",
        "knn.fit(train_X_flattened, train_y)"
      ],
      "metadata": {
        "id": "y4Fu0Yutod2y"
      },
      "execution_count": null,
      "outputs": []
    },
    {
      "cell_type": "code",
      "source": [
        "get_score(knn.predict(test_X_flattened), test_y)\n"
      ],
      "metadata": {
        "id": "OAdTc1IdjLNE"
      },
      "execution_count": null,
      "outputs": []
    },
    {
      "cell_type": "code",
      "source": [
        "from sklearn.naive_bayes import GaussianNB,MultinomialNB,BernoulliNB\n",
        "from sklearn.metrics import accuracy_score, classification_report"
      ],
      "metadata": {
        "id": "R8fBwI0_o8Ur"
      },
      "execution_count": null,
      "outputs": []
    },
    {
      "cell_type": "code",
      "source": [
        "import joblib\n",
        "joblib.dump(knn, 'KNN_model.pkl')"
      ],
      "metadata": {
        "id": "JMW0LOUf2S_3"
      },
      "execution_count": null,
      "outputs": []
    },
    {
      "cell_type": "code",
      "source": [
        "from google.colab import files\n",
        "files.download(\"KNN_model.pkl\")"
      ],
      "metadata": {
        "id": "4RbDKcA13J4k"
      },
      "execution_count": null,
      "outputs": []
    },
    {
      "cell_type": "code",
      "source": [],
      "metadata": {
        "id": "RUAybCiR3nSE"
      },
      "execution_count": null,
      "outputs": []
    }
  ]
}
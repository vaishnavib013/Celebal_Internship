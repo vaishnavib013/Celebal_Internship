{
  "nbformat": 4,
  "nbformat_minor": 0,
  "metadata": {
    "colab": {
      "private_outputs": true,
      "provenance": [],
      "cell_execution_strategy": "setup"
    },
    "kernelspec": {
      "name": "python3",
      "display_name": "Python 3"
    },
    "language_info": {
      "name": "python"
    }
  },
  "cells": [
    {
      "cell_type": "code",
      "execution_count": null,
      "metadata": {
        "id": "rUGiKePka7g_"
      },
      "outputs": [],
      "source": []
    },
    {
      "cell_type": "code",
      "source": [
        "import kagglehub\n",
        "\n",
        "# Download latest version\n",
        "path = kagglehub.dataset_download(\"salader/dogs-vs-cats\")\n",
        "\n",
        "print(\"Path to dataset files:\", path)"
      ],
      "metadata": {
        "id": "pxkyviIfbOy5"
      },
      "execution_count": null,
      "outputs": []
    },
    {
      "cell_type": "code",
      "source": [
        "import os\n",
        "\n",
        "base_path = path\n",
        "for root, dirs, files in os.walk(base_path):\n",
        "    print(\"Current directory:\", root)\n",
        "    print(\"Sub-directories:\", dirs)\n",
        "    print(\"Files:\", files[:5])  # show only first 5 files for brevity\n",
        "    print(\"=\" * 40)"
      ],
      "metadata": {
        "id": "YVNYyjJVbTJa"
      },
      "execution_count": null,
      "outputs": []
    },
    {
      "cell_type": "code",
      "source": [
        "from PIL import Image\n",
        "import matplotlib.pyplot as plt\n",
        "\n",
        "# Define the full path to the first cat image\n",
        "cat_image_path =path+\"/train/cats/cat.891.jpg\"\n",
        "\n",
        "# Load and display the image\n",
        "img = Image.open(cat_image_path)\n",
        "plt.imshow(img)\n",
        "plt.axis('off')\n",
        "plt.title(\"First Cat Image\")\n",
        "plt.show()\n"
      ],
      "metadata": {
        "id": "Xz3ZMaMibTeJ"
      },
      "execution_count": null,
      "outputs": []
    },
    {
      "cell_type": "code",
      "source": [
        "\n",
        "import os\n",
        "\n",
        "cat_image_path = path+\"/train/cats\"\n",
        "print(\"Exists:\", os.path.exists(cat_image_path))\n"
      ],
      "metadata": {
        "id": "FQ8LRbQ3beXY"
      },
      "execution_count": null,
      "outputs": []
    },
    {
      "cell_type": "code",
      "source": [
        "import os\n",
        "\n",
        "cat_dir = path+\"/train/cats\"\n",
        "\n",
        "# Check if directory exists\n",
        "print(\"Exists:\", os.path.exists(cat_dir))\n",
        "\n",
        "# Get list of all image filenames\n",
        "cat_filenames = sorted([f for f in os.listdir(cat_dir) if f.endswith(\".jpg\")])\n",
        "print(f\"Total cat test images: {len(cat_filenames)}\")\n",
        "print(\"First 5 files:\", cat_filenames[:5])\n"
      ],
      "metadata": {
        "id": "4NLoR114blCd"
      },
      "execution_count": null,
      "outputs": []
    },
    {
      "cell_type": "code",
      "source": [
        "\n",
        "cat_image_path = path+\"/test/cats/cat.10.jpg\"\n",
        "\n",
        "# Load and display the image\n",
        "img = Image.open(cat_image_path)\n",
        "plt.imshow(img)"
      ],
      "metadata": {
        "id": "_QzVjyeBej94"
      },
      "execution_count": null,
      "outputs": []
    },
    {
      "cell_type": "code",
      "source": [
        "import os\n",
        "\n",
        "dog_dir =path+\"/test/dogs\"\n",
        "\n",
        "# Check if directory exists\n",
        "print(\"Exists:\", os.path.exists(dog_dir))\n",
        "\n",
        "# Get list of all image filenames\n",
        "cat_filenames = sorted([f for f in os.listdir(dog_dir) if f.endswith(\".jpg\")])\n",
        "print(f\"Total cat test images: {len(cat_filenames)}\")\n",
        "print(\"First 5 files:\", cat_filenames[:5])\n"
      ],
      "metadata": {
        "id": "g6D6iw7tetMN"
      },
      "execution_count": null,
      "outputs": []
    },
    {
      "cell_type": "code",
      "source": [
        "import os\n",
        "import cv2\n",
        "\n",
        "Images = []\n",
        "Labels = []\n",
        "\n",
        "# Paths to cat and dog image directories\n",
        "cat_dir =path+\"/test/cats\"\n",
        "dog_dir = path+\"/test/dogs\"\n",
        "\n",
        "# Load cat images (label 0)\n",
        "for file in os.listdir(cat_dir):\n",
        "    img_path = os.path.join(cat_dir, file)\n",
        "    img = cv2.imread(img_path)\n",
        "    if img is not None:\n",
        "        img = cv2.resize(img, (255, 255))\n",
        "        Images.append(img)\n",
        "        Labels.append(0)\n",
        "\n",
        "# Load dog images (label 1)\n",
        "for file in os.listdir(dog_dir):\n",
        "    img_path = os.path.join(dog_dir, file)\n",
        "    img = cv2.imread(img_path)\n",
        "    if img is not None:\n",
        "        img = cv2.resize(img, (255, 255))\n",
        "        Images.append(img)\n",
        "        Labels.append(1)\n",
        "\n",
        "print(f\"Total Images Loaded: {len(Images)}\")\n",
        "print(f\"Total Labels: {len(Labels)}\")\n",
        "print(f\"Example label values: {Labels[:10]}\")\n"
      ],
      "metadata": {
        "id": "G9oqBQnie5GK"
      },
      "execution_count": null,
      "outputs": []
    },
    {
      "cell_type": "code",
      "source": [
        "sample = Images[0]\n",
        "\n",
        "plt.imshow(sample)\n",
        "plt.title(\"Postive\")"
      ],
      "metadata": {
        "id": "dpm0O4NefeZg"
      },
      "execution_count": null,
      "outputs": []
    },
    {
      "cell_type": "code",
      "source": [
        "len(Images)"
      ],
      "metadata": {
        "id": "gS4ds3FMfpQ6"
      },
      "execution_count": null,
      "outputs": []
    },
    {
      "cell_type": "code",
      "source": [
        "Images[2600]"
      ],
      "metadata": {
        "id": "2iosygcxf3g-"
      },
      "execution_count": null,
      "outputs": []
    },
    {
      "cell_type": "code",
      "source": [
        "Labels[2600]"
      ],
      "metadata": {
        "id": "Z6oIvkptf-cb"
      },
      "execution_count": null,
      "outputs": []
    },
    {
      "cell_type": "code",
      "source": [
        "import numpy as np\n",
        "\n",
        "# Convert lists to NumPy arrays\n",
        "X = np.array(Images, dtype=np.float32)\n",
        "y = np.array(Labels)\n",
        "\n",
        "# Now safely scale\n",
        "X = X / 255.0\n"
      ],
      "metadata": {
        "id": "I57CwlzRgGj8"
      },
      "execution_count": null,
      "outputs": []
    },
    {
      "cell_type": "code",
      "source": [
        "from sklearn.preprocessing import label_binarize\n",
        "from sklearn.tree import DecisionTreeClassifier\n",
        "\n",
        "from sklearn.metrics import accuracy_score,classification_report\n",
        "from sklearn.model_selection import train_test_split\n",
        "train_X, test_X, train_y, test_y = train_test_split(X, np.array(y), stratify = np.array(y),\n",
        "                                                    random_state = 42,\n",
        "                                                    shuffle = True, test_size = 0.2)\n",
        "\n",
        "train_X.shape, test_X.shape, train_y.shape, test_y.shape"
      ],
      "metadata": {
        "id": "l17ASS12iSAK"
      },
      "execution_count": null,
      "outputs": []
    },
    {
      "cell_type": "code",
      "source": [
        "# Initialize and train\n",
        "dt = DecisionTreeClassifier(random_state=42)\n",
        "dt.fit(train_X_flattened, train_y)\n",
        "\n",
        "# Evaluate performance\n",
        "get_score(dt.predict(test_X_flattened), test_y)\n",
        "\n",
        "import joblib\n",
        "\n",
        "# Save the model\n",
        "joblib.dump(dt, 'DecisionTree_model.pkl')\n",
        "\n",
        "# Download the model\n",
        "from google.colab import files\n",
        "files.download('DecisionTree_model.pkl')\n"
      ],
      "metadata": {
        "id": "SZKOf8EjpJox"
      },
      "execution_count": null,
      "outputs": []
    },
    {
      "cell_type": "code",
      "source": [
        "from sklearn.preprocessing import label_binarize\n",
        "from sklearn.model_selection import train_test_split\n",
        "train_X, test_X, train_y, test_y = train_test_split(X, np.array(y), stratify = np.array(y),\n",
        "                                                    random_state = 42,\n",
        "                                                    shuffle = True, test_size = 0.2)\n",
        "\n",
        "train_X.shape, test_X.shape, train_y.shape, test_y.shape"
      ],
      "metadata": {
        "id": "sEjHgHRuil0g"
      },
      "execution_count": null,
      "outputs": []
    },
    {
      "cell_type": "code",
      "source": [
        "from sklearn.metrics import accuracy_score, precision_score, recall_score, f1_score, confusion_matrix, classification_report\n",
        "import seaborn as sns\n",
        "def get_score(y_pred, y_true):\n",
        "    print(\"Accuracy score - \", accuracy_score(y_pred, y_true))\n",
        "    print(\"Precision score - \", precision_score(y_pred, y_true))\n",
        "    print(\"Recall score - \", recall_score(y_pred, y_true))\n",
        "    print(\"f1 score - \", f1_score(y_pred, y_true))\n",
        "    print(\"----------  Classification Report   -------\")\n",
        "    print(classification_report(y_pred, y_true))\n",
        "\n",
        "    matrix = confusion_matrix(y_pred, y_true)\n",
        "    sns.heatmap(matrix, cmap='Blues', annot=True, fmt='d')"
      ],
      "metadata": {
        "id": "ZNvliucgkNHu"
      },
      "execution_count": null,
      "outputs": []
    },
    {
      "cell_type": "code",
      "source": [
        "from sklearn.naive_bayes import GaussianNB,MultinomialNB,BernoulliNB\n",
        "from sklearn.metrics import accuracy_score, classification_report"
      ],
      "metadata": {
        "id": "R8fBwI0_o8Ur"
      },
      "execution_count": null,
      "outputs": []
    },
    {
      "cell_type": "code",
      "source": [
        "# Flatten the 255x255x3 images into 1D\n",
        "train_X_flattened = train_X.reshape(train_X.shape[0], -1)\n",
        "test_X_flattened = test_X.reshape(test_X.shape[0], -1)\n",
        "\n",
        "print(\"Flattened train shape:\", train_X_flattened.shape)\n",
        "print(\"Flattened test shape:\", test_X_flattened.shape)\n"
      ],
      "metadata": {
        "id": "RUAybCiR3nSE"
      },
      "execution_count": null,
      "outputs": []
    },
    {
      "cell_type": "code",
      "source": [
        "#MultinomialNB\n",
        "# Try using X * 255 and cast to int\n",
        "train_X_int = (train_X_flattened * 255).astype(np.int32)\n",
        "test_X_int = (test_X_flattened * 255).astype(np.int32)\n",
        "\n",
        "mnb = MultinomialNB()\n",
        "mnb.fit(train_X_int, train_y)\n",
        "get_score(mnb.predict(test_X_int), test_y)\n",
        "\n",
        "# Save and download\n",
        "joblib.dump(mnb, 'MultinomialNB_model.pkl')\n",
        "files.download('MultinomialNB_model.pkl')\n"
      ],
      "metadata": {
        "id": "mU-qz1xckz_K"
      },
      "execution_count": null,
      "outputs": []
    },
    {
      "cell_type": "code",
      "source": [
        "# Binarize input\n",
        "train_X_bin = (train_X_flattened > 0.5).astype(int)\n",
        "test_X_bin = (test_X_flattened > 0.5).astype(int)\n",
        "\n",
        "bnb = BernoulliNB()\n",
        "bnb.fit(train_X_bin, train_y)\n",
        "get_score(bnb.predict(test_X_bin), test_y)\n",
        "\n",
        "# Save and download\n",
        "joblib.dump(bnb, 'BernoulliNB_model.pkl')\n",
        "files.download('BernoulliNB_model.pkl')\n"
      ],
      "metadata": {
        "id": "Zrhg5r-clCxH"
      },
      "execution_count": null,
      "outputs": []
    },
    {
      "cell_type": "code",
      "source": [],
      "metadata": {
        "id": "qqCnvtHtotXc"
      },
      "execution_count": null,
      "outputs": []
    }
  ]
}